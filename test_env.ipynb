{
 "cells": [
  {
   "cell_type": "code",
   "execution_count": 1,
   "metadata": {
    "collapsed": true
   },
   "outputs": [
    {
     "data": {
      "text/plain": "             Image Index          Finding Labels  Follow-up #  Patient ID  \\\n0       00000001_000.png            Cardiomegaly            0           1   \n1       00000001_001.png  Cardiomegaly|Emphysema            1           1   \n2       00000001_002.png   Cardiomegaly|Effusion            2           1   \n3       00000002_000.png              No Finding            0           2   \n4       00000003_001.png                  Hernia            0           3   \n...                  ...                     ...          ...         ...   \n112115  00030801_001.png          Mass|Pneumonia            1       30801   \n112116  00030802_000.png              No Finding            0       30802   \n112117  00030803_000.png              No Finding            0       30803   \n112118  00030804_000.png              No Finding            0       30804   \n112119  00030805_000.png              No Finding            0       30805   \n\n        Patient Age Patient Gender View Position  OriginalImage[Width  \\\n0                57              M            PA                 2682   \n1                58              M            PA                 2894   \n2                58              M            PA                 2500   \n3                80              M            PA                 2500   \n4                74              F            PA                 2500   \n...             ...            ...           ...                  ...   \n112115           38              M            PA                 2048   \n112116           28              M            PA                 2048   \n112117           42              F            PA                 2048   \n112118           29              F            PA                 2048   \n112119           26              M            PA                 2048   \n\n        Height]  OriginalImagePixelSpacing[x     y]  \n0          2749                        0.143  0.143  \n1          2729                        0.143  0.143  \n2          2048                        0.168  0.168  \n3          2048                        0.171  0.171  \n4          2048                        0.168  0.168  \n...         ...                          ...    ...  \n112115     2500                        0.168  0.168  \n112116     2500                        0.168  0.168  \n112117     2500                        0.168  0.168  \n112118     2500                        0.168  0.168  \n112119     2500                        0.171  0.171  \n\n[112120 rows x 11 columns]",
      "text/html": "<div>\n<style scoped>\n    .dataframe tbody tr th:only-of-type {\n        vertical-align: middle;\n    }\n\n    .dataframe tbody tr th {\n        vertical-align: top;\n    }\n\n    .dataframe thead th {\n        text-align: right;\n    }\n</style>\n<table border=\"1\" class=\"dataframe\">\n  <thead>\n    <tr style=\"text-align: right;\">\n      <th></th>\n      <th>Image Index</th>\n      <th>Finding Labels</th>\n      <th>Follow-up #</th>\n      <th>Patient ID</th>\n      <th>Patient Age</th>\n      <th>Patient Gender</th>\n      <th>View Position</th>\n      <th>OriginalImage[Width</th>\n      <th>Height]</th>\n      <th>OriginalImagePixelSpacing[x</th>\n      <th>y]</th>\n    </tr>\n  </thead>\n  <tbody>\n    <tr>\n      <th>0</th>\n      <td>00000001_000.png</td>\n      <td>Cardiomegaly</td>\n      <td>0</td>\n      <td>1</td>\n      <td>57</td>\n      <td>M</td>\n      <td>PA</td>\n      <td>2682</td>\n      <td>2749</td>\n      <td>0.143</td>\n      <td>0.143</td>\n    </tr>\n    <tr>\n      <th>1</th>\n      <td>00000001_001.png</td>\n      <td>Cardiomegaly|Emphysema</td>\n      <td>1</td>\n      <td>1</td>\n      <td>58</td>\n      <td>M</td>\n      <td>PA</td>\n      <td>2894</td>\n      <td>2729</td>\n      <td>0.143</td>\n      <td>0.143</td>\n    </tr>\n    <tr>\n      <th>2</th>\n      <td>00000001_002.png</td>\n      <td>Cardiomegaly|Effusion</td>\n      <td>2</td>\n      <td>1</td>\n      <td>58</td>\n      <td>M</td>\n      <td>PA</td>\n      <td>2500</td>\n      <td>2048</td>\n      <td>0.168</td>\n      <td>0.168</td>\n    </tr>\n    <tr>\n      <th>3</th>\n      <td>00000002_000.png</td>\n      <td>No Finding</td>\n      <td>0</td>\n      <td>2</td>\n      <td>80</td>\n      <td>M</td>\n      <td>PA</td>\n      <td>2500</td>\n      <td>2048</td>\n      <td>0.171</td>\n      <td>0.171</td>\n    </tr>\n    <tr>\n      <th>4</th>\n      <td>00000003_001.png</td>\n      <td>Hernia</td>\n      <td>0</td>\n      <td>3</td>\n      <td>74</td>\n      <td>F</td>\n      <td>PA</td>\n      <td>2500</td>\n      <td>2048</td>\n      <td>0.168</td>\n      <td>0.168</td>\n    </tr>\n    <tr>\n      <th>...</th>\n      <td>...</td>\n      <td>...</td>\n      <td>...</td>\n      <td>...</td>\n      <td>...</td>\n      <td>...</td>\n      <td>...</td>\n      <td>...</td>\n      <td>...</td>\n      <td>...</td>\n      <td>...</td>\n    </tr>\n    <tr>\n      <th>112115</th>\n      <td>00030801_001.png</td>\n      <td>Mass|Pneumonia</td>\n      <td>1</td>\n      <td>30801</td>\n      <td>38</td>\n      <td>M</td>\n      <td>PA</td>\n      <td>2048</td>\n      <td>2500</td>\n      <td>0.168</td>\n      <td>0.168</td>\n    </tr>\n    <tr>\n      <th>112116</th>\n      <td>00030802_000.png</td>\n      <td>No Finding</td>\n      <td>0</td>\n      <td>30802</td>\n      <td>28</td>\n      <td>M</td>\n      <td>PA</td>\n      <td>2048</td>\n      <td>2500</td>\n      <td>0.168</td>\n      <td>0.168</td>\n    </tr>\n    <tr>\n      <th>112117</th>\n      <td>00030803_000.png</td>\n      <td>No Finding</td>\n      <td>0</td>\n      <td>30803</td>\n      <td>42</td>\n      <td>F</td>\n      <td>PA</td>\n      <td>2048</td>\n      <td>2500</td>\n      <td>0.168</td>\n      <td>0.168</td>\n    </tr>\n    <tr>\n      <th>112118</th>\n      <td>00030804_000.png</td>\n      <td>No Finding</td>\n      <td>0</td>\n      <td>30804</td>\n      <td>29</td>\n      <td>F</td>\n      <td>PA</td>\n      <td>2048</td>\n      <td>2500</td>\n      <td>0.168</td>\n      <td>0.168</td>\n    </tr>\n    <tr>\n      <th>112119</th>\n      <td>00030805_000.png</td>\n      <td>No Finding</td>\n      <td>0</td>\n      <td>30805</td>\n      <td>26</td>\n      <td>M</td>\n      <td>PA</td>\n      <td>2048</td>\n      <td>2500</td>\n      <td>0.171</td>\n      <td>0.171</td>\n    </tr>\n  </tbody>\n</table>\n<p>112120 rows × 11 columns</p>\n</div>"
     },
     "execution_count": 1,
     "metadata": {},
     "output_type": "execute_result"
    }
   ],
   "source": []
  },
  {
   "cell_type": "code",
   "execution_count": 3,
   "outputs": [],
   "source": [
    "# What version of Python do you have?\n",
    "import sys\n",
    "import platform\n",
    "import torch\n",
    "import pandas as pd\n",
    "import sklearn as sk\n",
    "\n",
    "has_gpu = torch.cuda.is_available()\n",
    "has_mps = getattr(torch,'has_mps',False)\n",
    "device = \"mps\" if getattr(torch,'has_mps',False) \\\n",
    "    else \"gpu\" if torch.cuda.is_available() else \"cpu\"\n",
    "\n",
    "print(f\"Python Platform: {platform.platform()}\")\n",
    "print(f\"PyTorch Version: {torch.__version__}\")\n",
    "print()\n",
    "print(f\"Python {sys.version}\")\n",
    "print(f\"Pandas {pd.__version__}\")\n",
    "print(f\"Scikit-Learn {sk.__version__}\")\n",
    "print(\"GPU is\", \"available\" if has_gpu else \"NOT AVAILABLE\")\n",
    "print(\"MPS (Apple Metal) is\", \"AVAILABLE\" if has_mps else \"NOT AVAILABLE\")\n",
    "print(f\"Target device is {device}\")"
   ],
   "metadata": {
    "collapsed": false
   }
  }
 ],
 "metadata": {
  "kernelspec": {
   "display_name": "Python 3",
   "language": "python",
   "name": "python3"
  },
  "language_info": {
   "codemirror_mode": {
    "name": "ipython",
    "version": 2
   },
   "file_extension": ".py",
   "mimetype": "text/x-python",
   "name": "python",
   "nbconvert_exporter": "python",
   "pygments_lexer": "ipython2",
   "version": "2.7.6"
  }
 },
 "nbformat": 4,
 "nbformat_minor": 0
}
